{
 "cells": [
  {
   "cell_type": "code",
   "execution_count": 1,
   "metadata": {
    "id": "JbO2qky_su49"
   },
   "outputs": [],
   "source": [
    "# prerequisites\n",
    "import torch\n",
    "import torch.nn as nn\n",
    "import torch.nn.functional as F\n",
    "import torch.optim as optim\n",
    "from torch.distributions.normal import Normal\n",
    "import matplotlib.pyplot as plt\n",
    "from IPython.display import display, clear_output\n",
    "import numpy as np\n",
    "device = torch.device('cuda' if torch.cuda.is_available() else 'cpu')"
   ]
  },
  {
   "cell_type": "markdown",
   "metadata": {},
   "source": [
    "### 1. Defining the funnel distribution"
   ]
  },
  {
   "cell_type": "code",
   "execution_count": 2,
   "metadata": {},
   "outputs": [],
   "source": [
    "class funnel():\n",
    "    def __init__(self, y_std=1):\n",
    "        self.y_dist = Normal(0, y_std)\n",
    "    \n",
    "    def log_prob_normal(self, mu, scale, x):\n",
    "        cov = scale*scale\n",
    "        a = -0.5 * (np.log(2 * np.pi) + torch.log(cov))\n",
    "        b =  -0.5 * (x - mu) * (x - mu) / cov\n",
    "        return a + b\n",
    "    \n",
    "    def log_prob(self, data):\n",
    "        x = data[:, 0]\n",
    "        y = data[:, 1]\n",
    "        y_log_pdf = self.y_dist.log_prob(y)\n",
    "        x_log_pdf = self.log_prob_normal(0.0, self.x_std(y), x)\n",
    "        return x_log_pdf + y_log_pdf\n",
    "    \n",
    "    def x_std(self, y):\n",
    "        return torch.exp(y) / 10\n",
    "    \n",
    "    def sample(self, n_samples):\n",
    "        y = self.y_dist.sample([n_samples])\n",
    "        x = torch.randn_like(y) * self.x_std(y)\n",
    "        return torch.vstack([x, y]).T \n",
    "    \n",
    "funne_dist = funnel()"
   ]
  },
  {
   "cell_type": "markdown",
   "metadata": {
    "id": "8JE5PTNqsu4-"
   },
   "source": [
    "### 2. Probability Flow ODE"
   ]
  },
  {
   "cell_type": "markdown",
   "metadata": {},
   "source": [
    "#### 2.1 Building the model"
   ]
  },
  {
   "cell_type": "code",
   "execution_count": 3,
   "metadata": {
    "id": "EsFVVyRzsu4_"
   },
   "outputs": [],
   "source": [
    "# define a MLP discriminator\n",
    "class Discriminator(nn.Module):\n",
    "    def __init__(self, d_input_dim=2):\n",
    "        super(Discriminator, self).__init__()\n",
    "        self.fc1 = nn.Linear(d_input_dim, 512)\n",
    "        self.fc2 = nn.Linear(self.fc1.out_features, self.fc1.out_features//2)\n",
    "        self.fc3 = nn.Linear(self.fc2.out_features, 1)\n",
    "\n",
    "    # forward method\n",
    "    def forward(self, x):\n",
    "        x = F.leaky_relu(self.fc1(x), 0.2)\n",
    "        x = F.leaky_relu(self.fc2(x), 0.2)\n",
    "        return self.fc3(x)"
   ]
  },
  {
   "cell_type": "code",
   "execution_count": 4,
   "metadata": {
    "id": "aUA0E8jTsu5B"
   },
   "outputs": [],
   "source": [
    "# build network\n",
    "data_dim = 2\n",
    "# loss\n",
    "criterion = nn.BCEWithLogitsLoss()\n",
    "\n",
    "D_logit = Discriminator().to(device)\n",
    "xs = (torch.randn([1024, 2])*0.5 + torch.tensor([0.0, 2.0])).to(device)\n",
    "xs.requires_grad=True\n",
    "\n",
    "# optimizer\n",
    "D_optimizer = optim.Adam(D_logit.parameters(), lr = 0.001)\n",
    "\n",
    "'''\n",
    "One can also use SGD optimizer for xs which corresponds\n",
    "to the standard forward Euler approach, but it works very slow.\n",
    "'''\n",
    "#G_optimizer = optim.Adam([xs], lr = 0.001)\n",
    "G_optimizer = optim.SGD([xs], lr = 0.001)\n",
    "\n",
    "def train_per_step(batch_size=1024):\n",
    "    D_losses, G_losses = [], []\n",
    "    #idx = np.random.choice(data.shape[0], batch_size, replace=False)\n",
    "    x = funne_dist.sample(batch_size).to(device)\n",
    "\n",
    "    #==============Train the discriminator===============#\n",
    "    D_optimizer.zero_grad()\n",
    "    # train discriminator on p\n",
    "    x_real, y_real = x.view(-1, data_dim), torch.ones(batch_size, 1).to(device)\n",
    "    real_loss = criterion(D_logit(x_real), y_real)\n",
    "\n",
    "    # train discriminator on q_i\n",
    "    idx = np.random.choice(xs.shape[0], batch_size, replace=False)\n",
    "    x_fake, y_fake = xs[idx], torch.zeros(batch_size, 1).to(device)\n",
    "    fake_loss = criterion(D_logit(x_fake), y_fake)\n",
    "\n",
    "    # gradient backprop & optimize ONLY D's parameters\n",
    "    D_loss = real_loss + fake_loss\n",
    "    D_loss.backward()\n",
    "    D_optimizer.step()\n",
    "\n",
    "    #==============Update particles===============#\n",
    "    G_optimizer.zero_grad()\n",
    "    \n",
    "    # update all particles\n",
    "    logit_xs = D_logit(xs)\n",
    "    # batch gradient for each particle\n",
    "    ''' torch.sum(logit_xs) is the sum for all log ratios,\n",
    "            back-propogating the sum returns the gradient for each particle.\n",
    "    '''\n",
    "    \n",
    "    G_loss = -torch.sum(logit_xs)\n",
    "    G_loss.backward()\n",
    "    G_optimizer.step()\n",
    "\n",
    "    D_losses.append(D_loss.data.item())\n",
    "    G_losses.append(G_loss.data.item())\n",
    "    return torch.mean(torch.FloatTensor(D_losses)), torch.mean(torch.FloatTensor(G_losses))"
   ]
  },
  {
   "cell_type": "markdown",
   "metadata": {},
   "source": [
    "### 3. Simulation of the ODE"
   ]
  },
  {
   "cell_type": "code",
   "execution_count": 5,
   "metadata": {
    "colab": {
     "base_uri": "https://localhost:8080/"
    },
    "id": "AsGQX0th1kJi",
    "outputId": "7c492c71-aebf-4927-efba-4d8de2e18c34"
   },
   "outputs": [
    {
     "data": {
      "image/png": "[encoded data removed]",
      "text/plain": [
       "<Figure size 400x400 with 1 Axes>"
      ]
     },
     "metadata": {},
     "output_type": "display_data"
    },
    {
     "name": "stdout",
     "output_type": "stream",
     "text": [
      "[1500/1500]: loss_d: 1.311, loss_g: 175.210, D_lr: 0.000741, G_lr: 0.000741\n"
     ]
    }
   ],
   "source": [
    "n_iters = 1500\n",
    "scheduler_G = torch.optim.lr_scheduler.ExponentialLR(optimizer=G_optimizer, gamma=0.9998)\n",
    "scheduler_D = torch.optim.lr_scheduler.ExponentialLR(optimizer=D_optimizer, gamma=0.9998)\n",
    "flows = []\n",
    "\n",
    "fig, ax = plt.subplots(figsize=(4, 4))\n",
    "scatter_plot = ax.scatter(xs.detach().cpu()[:, 0], xs.detach().cpu()[:, 1], s=5, alpha=0.2, color='red')\n",
    "time_text = ax.text(1.0, -3.5, '$t=0$', fontsize=14) \n",
    "ax.axis('equal')\n",
    "ax.set_xlim(-4, 4)\n",
    "ax.set_ylim(-4, 4)\n",
    "ax.axis(\"off\") # remove the axis will speed up the training\n",
    "fig.tight_layout()\n",
    "\n",
    "clear_output(wait=True)\n",
    "display(fig)\n",
    "\n",
    "\n",
    "for i in range(0, n_iters+1):\n",
    "    D_loss, G_loss = train_per_step()\n",
    "    particles_t = xs.cpu().detach()\n",
    "    scatter_plot.set_offsets(particles_t)\n",
    "    time_text.set_text(f'$t={i}/{n_iters}$')\n",
    "    flows.append(particles_t)\n",
    "    clear_output(wait=True)\n",
    "    display(fig)\n",
    "    print('[%d/%d]: loss_d: %.3f, loss_g: %.3f, D_lr: %.6f, G_lr: %.6f' % (\n",
    "            i, n_iters, D_loss, G_loss, scheduler_D.get_last_lr()[0], scheduler_G.get_last_lr()[0]))\n",
    "    scheduler_G.step()\n",
    "    scheduler_D.step()\n",
    "plt.close()"
   ]
  },
  {
   "cell_type": "markdown",
   "metadata": {},
   "source": [
    "### 4. Generating animation"
   ]
  },
  {
   "cell_type": "code",
   "execution_count": 6,
   "metadata": {
    "scrolled": true
   },
   "outputs": [
    {
     "name": "stderr",
     "output_type": "stream",
     "text": [
      "100%|████████████████████████████████████████████████████████████████████████████████████████████████████████████████████████████████████████▉| 1500/1501 [00:30<00:00, 112.03it/s]"
     ]
    }
   ],
   "source": [
    "from matplotlib.animation import FuncAnimation, PillowWriter\n",
    "from matplotlib.collections import LineCollection\n",
    "from tqdm import tqdm\n",
    " \n",
    "\n",
    "def update(frame):\n",
    "    scatter_plot.set_offsets(flows[frame])\n",
    "    time_text.set_text(f'$t={frame}/{n_iters}$')\n",
    "## Generate gif \n",
    "ani = FuncAnimation(fig=fig, func=update, frames=tqdm(range(0, len(flows), 1)), interval=1)\n",
    "writer = PillowWriter(fps=40)  \n",
    "ani.save(\"funnel_ode.gif\", writer=writer)  \n"
   ]
  },
  {
   "cell_type": "code",
   "execution_count": null,
   "metadata": {},
   "outputs": [],
   "source": []
  }
 ],
 "metadata": {
  "accelerator": "GPU",
  "colab": {
   "gpuType": "T4",
   "provenance": []
  },
  "kernelspec": {
   "display_name": "Python 3 (ipykernel)",
   "language": "python",
   "name": "python3"
  },
  "language_info": {
   "codemirror_mode": {
    "name": "ipython",
    "version": 3
   },
   "file_extension": ".py",
   "mimetype": "text/x-python",
   "name": "python",
   "nbconvert_exporter": "python",
   "pygments_lexer": "ipython3",
   "version": "3.10.13"
  }
 },
 "nbformat": 4,
 "nbformat_minor": 1
}
